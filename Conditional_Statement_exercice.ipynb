{
  "nbformat": 4,
  "nbformat_minor": 0,
  "metadata": {
    "colab": {
      "provenance": [],
      "authorship_tag": "ABX9TyMrH57Qx9bLXSM4Sw/W94R6",
      "include_colab_link": true
    },
    "kernelspec": {
      "name": "python3",
      "display_name": "Python 3"
    },
    "language_info": {
      "name": "python"
    }
  },
  "cells": [
    {
      "cell_type": "markdown",
      "metadata": {
        "id": "view-in-github",
        "colab_type": "text"
      },
      "source": [
        "<a href=\"https://colab.research.google.com/github/00-Aryan/Python/blob/main/Conditional_Statement_exercice.ipynb\" target=\"_parent\"><img src=\"https://colab.research.google.com/assets/colab-badge.svg\" alt=\"Open In Colab\"/></a>"
      ]
    },
    {
      "cell_type": "markdown",
      "source": [
        "Given a positive integer x. Your task is to check, if it is even or odd (Any number that gives zero as remainder when divided by 2 is an even number).\n",
        "Note: Return \"Even\" if the number is even; otherwise, return \"Odd\"."
      ],
      "metadata": {
        "id": "acrK2n3U8wUc"
      }
    },
    {
      "cell_type": "code",
      "execution_count": null,
      "metadata": {
        "id": "IA_NVMY78Zbt"
      },
      "outputs": [],
      "source": [
        "def checkOddEven(x):\n",
        "    if x % 2 == 0:\n",
        "        return \"Even\"\n",
        "    else:\n",
        "        return \"Odd\"\n"
      ]
    },
    {
      "cell_type": "markdown",
      "source": [
        "Given two integer variables a and b, and a boolean variable flag. The task is to check the status and return accordingly.\n",
        "\n",
        "Return True for the following cases:\n",
        "\n",
        " **Either a or b (not both) is non-negative and the flag is false.\n",
        "Both a and b are negative and the flag is true.\n",
        "Otherwise, return False.**\n",
        "\n",
        "Examples:\n",
        "\n",
        "\n",
        "\n",
        "```\n",
        "Input: a = 1, b = -1, flag = False\n",
        "Output: True\n",
        "Explanation: Since a is positive, b is negative, and flag is False, condition 1 holds true, so the function returns True.\n",
        "```\n",
        "\n",
        "\n",
        "```\n",
        "Input: a = -182, b = -9121, flag = True\n",
        "Output: True\n",
        "Explanation: Since both a and b are negative and flag is True, condition 2 holds true, so the function returns True.\n",
        "```\n",
        "```\n",
        "Input: a = 5, b = 3, flag = True\n",
        "Output: False\n",
        "Explanation: Neither condition 1 nor condition 2 holds, so the function returns False.\n",
        "```\n",
        "```\n",
        "Constraints:\n",
        "-10 ≤ a, b ≤ 10\n",
        "flag ∈ {True, False}\n",
        "```"
      ],
      "metadata": {
        "id": "iyOq-NRCweil"
      }
    },
    {
      "cell_type": "code",
      "source": [
        "class Solution:\n",
        "    def checkStatus(self, a, b, flag):\n",
        "        # code here\n",
        "        both_negative = (a < 0) and (b < 0)\n",
        "        exactly_one_non_negative = (a >= 0) != (b >= 0)\n",
        "\n",
        "        return (both_negative and flag) or (exactly_one_non_negative and not flag)"
      ],
      "metadata": {
        "id": "VLqllTWfFLQd"
      },
      "execution_count": null,
      "outputs": []
    },
    {
      "cell_type": "markdown",
      "source": [
        "You are familiar with basics of input/output and many other useful things in Python. This module is all about conditional statements like if, elif, else; for, while, etc.\n",
        "\n",
        "In Python, any conditional statement ends with ':' (proper indentation must be followed while working through loops).\n",
        "\n",
        "There are two friends, John and Smith, and the parameters j_angry and s_angry to indicate if each is angry. You are in trouble if both of them are angry or no one of them is angry.\n",
        "\n",
        "Now, complete the function which returns true if you are in trouble, else return false\n",
        "\n",
        "\n",
        "\n",
        "```\n",
        "Example 1:\n",
        "\n",
        "Input:\n",
        "j_angry = True, s_angry = True\n",
        "Output:\n",
        "True\n",
        "Explanation:\n",
        "Since both of them are angry, you are in trouble.\n",
        "```\n",
        "\n",
        "```\n",
        "Example 2:\n",
        "\n",
        "Input:\n",
        "j_angry = True, s_angry = False\n",
        "Output:\n",
        "False\n",
        "Explanation:\n",
        "Only one of them is angry, you are not in trouble.\n",
        "Your Task:\n",
        "You don't need to take any input. Complete the function friends_in_trouble() and return True or False.\n",
        "```\n"
      ],
      "metadata": {
        "id": "5ic_nxE-DR49"
      }
    },
    {
      "cell_type": "markdown",
      "source": [
        "You are given a string str, you need to return True if  the words \"cat\" and \"hat\" appear same number of times in str, otherwise return False.\n",
        "Note: str contains only lowercase English alphabets."
      ],
      "metadata": {
        "id": "qyqp0GY7iwF1"
      }
    },
    {
      "cell_type": "markdown",
      "source": [
        "```\n",
        "Input:\n",
        "str = catinahat\n",
        "Output:\n",
        "True\n",
        "Explanation:\n",
        "cat and hat both are present\n",
        "1 number of times.\n",
        "```\n",
        "\n",
        "```\n",
        "Example 2:\n",
        "\n",
        "Input:\n",
        "str = bazingaa\n",
        "Output:\n",
        "True\n",
        "Explanation:\n",
        "cat and hat both are present\n",
        "0 number of times.\n",
        "```"
      ],
      "metadata": {
        "id": "QnJEBvm-i1nO"
      }
    },
    {
      "cell_type": "code",
      "source": [
        "def cat_hat(str):\n",
        "  ##your code here##\n",
        "  ##You need to write complete code this time\n",
        "  # cat_count = 0\n",
        "  # hat_count = 0\n",
        "  cat_count  = str.count('cat')\n",
        "  hat_count = str.count('hat')\n",
        "  # if \"cat\" and \"hat\" in str:\n",
        "  if cat_count == hat_count:\n",
        "    return True\n"
      ],
      "metadata": {
        "id": "B7UZhrLY4aDV"
      },
      "execution_count": null,
      "outputs": []
    },
    {
      "cell_type": "code",
      "source": [
        "# def word_count(word, char):\n",
        "#   count = 0\n",
        "#   for c in word:\n",
        "#     if char == c:\n",
        "#       count+=1\n",
        "#   return count"
      ],
      "metadata": {
        "id": "NxHnV1EM3zyL"
      },
      "execution_count": null,
      "outputs": []
    },
    {
      "cell_type": "code",
      "source": [
        "def word_count(word, subword):\n",
        "    count = 0\n",
        "    sub_len = len(subword)\n",
        "    for i in range(len(word) - sub_len + 1):\n",
        "        if word[i:i+sub_len] == subword:\n",
        "            count += 1\n",
        "    return count"
      ],
      "metadata": {
        "id": "vVxfbpxe9OfU"
      },
      "execution_count": null,
      "outputs": []
    },
    {
      "cell_type": "code",
      "source": [
        "word_count(\"cathatcat\",\"cat\")"
      ],
      "metadata": {
        "colab": {
          "base_uri": "https://localhost:8080/"
        },
        "id": "Khsky-GNjnAv",
        "outputId": "23fe1c3d-4dcc-45a5-9eff-4e04c9bd0cb9"
      },
      "execution_count": null,
      "outputs": [
        {
          "output_type": "execute_result",
          "data": {
            "text/plain": [
              "2"
            ]
          },
          "metadata": {},
          "execution_count": 9
        }
      ]
    },
    {
      "cell_type": "markdown",
      "source": [
        "Writing for loop in Python is a tad different from C++ and Java counterparts. In this question, we'll learn to print table by using the for loop.\n",
        "\n",
        "You are given a number N, you need to print its multiplication table.\n",
        "\n",
        "Note: Please go through the range function to understand why it's useful in for loops.\n",
        "\n",
        "```\n",
        "Example 1:\n",
        "\n",
        "Input:\n",
        "N = 5\n",
        "Output:\n",
        "5 10 15 20 25 30 35 40 45 50\n",
        "```\n",
        "\n",
        "```\n",
        "Example 2:\n",
        "\n",
        "Input:\n",
        "N = 6\n",
        "Output:\n",
        "6 12 18 24 30 36 42 48 54 60\n",
        "```"
      ],
      "metadata": {
        "id": "fLGKUboskE13"
      }
    },
    {
      "cell_type": "code",
      "source": [
        "def multiplicationTable(N):\n",
        "    #code here\n",
        "    for i in range(1,11):\n",
        "        print(i * N ,end=\" \")"
      ],
      "metadata": {
        "id": "3EY4_CdGju87"
      },
      "execution_count": null,
      "outputs": []
    },
    {
      "cell_type": "markdown",
      "source": [
        "You are given a string s, you need to print its characters at even indices(index starts at 0).\n",
        "\n",
        "Note: Please go through the range function to understand how to jump 2 steps.\n",
        "```\n",
        "Examples:\n",
        "\n",
        "Input: s = \"DoctorPhenomenal\"\n",
        "Output: DcoPeoea\n",
        "Input: s = \"Geeks\"\n",
        "Output: Ges\n",
        "```"
      ],
      "metadata": {
        "id": "-YUlVRpwslcN"
      }
    },
    {
      "cell_type": "code",
      "source": [
        "def stringJumper(s):\n",
        "    for i in range(0 , len(s), 2):\n",
        "        # from 0 to length of str and skip 2\n",
        "        print(s[i], end=\"\")\n",
        "        #printing character and separating characters by nothing"
      ],
      "metadata": {
        "id": "N5nvylsmsqQM"
      },
      "execution_count": null,
      "outputs": []
    },
    {
      "cell_type": "markdown",
      "source": [
        "Let's get it more clearly through this question. Given a number x, the task is to print the numbers from x to 0 in decreasing order in a single line.\n",
        "```\n",
        "Example:\n",
        "\n",
        "Input: x = 3\n",
        "Output: 3 2 1 0\n",
        "Explanation:\n",
        "Numbers in decreasing order from 3\n",
        "are 3, 2, 1, 0.\n",
        "```"
      ],
      "metadata": {
        "id": "-QG5p3c_s3U8"
      }
    },
    {
      "cell_type": "code",
      "source": [
        "def printInDecreasing(x):\n",
        "    # code here\n",
        "    while (x >= 0):\n",
        "\n",
        "        # your statement below to print the number\n",
        "        # in decreasing order\n",
        "        # Note: use end=\" \" parameter with print to seperate numbers by space.\n",
        "        ##Output for testcases will automatically separated by a new line by the print() in driver code\n",
        "        print(x, end = \" \")\n",
        "        x -= 1"
      ],
      "metadata": {
        "id": "32s4WVRJtZVJ"
      },
      "execution_count": null,
      "outputs": []
    },
    {
      "cell_type": "markdown",
      "source": [
        "Given a positive integer x, the task is to print the numbers from 1 to x in the order as 12, 22, 32, 42, 52, ... (in increasing order).\n",
        "```\n",
        "Example:\n",
        "\n",
        "Input: x = 10\n",
        "Output: 1 4 9\n",
        "Explanation:From 1 to 10, numbers in powers of 2 are, 12, 22, 32 as 1, 4 and 9.\n",
        "```"
      ],
      "metadata": {
        "id": "bKixlkyqtkpB"
      }
    },
    {
      "cell_type": "code",
      "source": [
        "def printIncreasingPower(x):\n",
        "    #code here\n",
        "    i = 1\n",
        "    # Loop to jump in powers of 2\n",
        "    while(i**2 <= x ):\n",
        "        #code here\n",
        "\n",
        "        print (i**2 , end = \" \")\n",
        "\n",
        "        i = i + 1\n",
        "        #code here"
      ],
      "metadata": {
        "id": "7aqGMzfytjty"
      },
      "execution_count": null,
      "outputs": []
    },
    {
      "cell_type": "markdown",
      "source": [
        "You are given a number n. The number n can be negative or positive. If n is negative, print numbers from n to 0 by adding 1 to n in the neg function. If positive, print numbers from n-1 to 0 by subtracting 1 from n in the pos function.\n",
        "\n",
        "Note:- You don't have to return anything, you just have to print the array.\n",
        "```\n",
        "Example 1:\n",
        "\n",
        "Input:\n",
        "n = 0\n",
        "Output:\n",
        "already Zero\n",
        "```\n",
        "```\n",
        "Example 2:\n",
        "\n",
        "Input:\n",
        "n = 4\n",
        "Output:\n",
        "3 2 1 0\n",
        "```\n",
        "```\n",
        "Example 3:\n",
        "\n",
        "Input:\n",
        "n = -3\n",
        "Output:\n",
        "-3 -2 -1 0\n",
        "```\n",
        "Your Task:\n",
        "This is a function problem. You don't need to take input of test cases. Just complete the functions pos() and neg().\n"
      ],
      "metadata": {
        "id": "qrD8qeBWeCKI"
      }
    },
    {
      "cell_type": "code",
      "source": [
        "def pos(n):\n",
        "    ## Write the code\n",
        "    for i in range(n-1,-1,-1):\n",
        "        print(i, end= \" \")\n",
        "def neg(n):\n",
        "    ##Write the code\n",
        "    for i in range(n, 1 , 1 ):\n",
        "        print(i , end= \" \")"
      ],
      "metadata": {
        "id": "6EorGnouZRbi"
      },
      "execution_count": null,
      "outputs": []
    },
    {
      "cell_type": "markdown",
      "source": [
        "Given an integer a, you have to use the if statement to print \"Big\" (without quotes) if the given number is greater than 100, and use the else statement to print \"Number\" (without quotes) when the number is smaller than or equal to 100.\n",
        "\n",
        "Note: After printing the output, you should move the cursor to the new line.\n",
        "\n",
        "Examples:\n",
        "```\n",
        "Input: a = 10\n",
        "Output: Number\n",
        "Explanation: 10 is smaller than 100, so our else statement works and we print Number.\n",
        "```\n",
        "```\n",
        "Input: a = 101\n",
        "Output: Big\n",
        "Explanation: 101 is greater than 100, so our if statement works and we print Big.\n",
        "```"
      ],
      "metadata": {
        "id": "jbLjMj2GfWRq"
      }
    },
    {
      "cell_type": "code",
      "source": [
        "input = int(input())\n",
        "if input > 100:\n",
        "    print(\"Big\")\n",
        "else:\n",
        "    print(\"Number\")"
      ],
      "metadata": {
        "id": "u9eyeIo0V7A4"
      },
      "execution_count": null,
      "outputs": []
    },
    {
      "cell_type": "markdown",
      "source": [
        "You are given a number a and you have to print your answer according to the following:\n",
        "\n",
        "If the number is divisible by 3, you print \"Fizz\" (without quotes)\n",
        "If the number is divisible by 5, you print \"Buzz\" (without quotes)\n",
        "If the number is divisible by both 3 and 5, you print \"FizzBuzz\" (without quotes)\n",
        "In any other case, you print the number itself\n",
        "Note: You should add a new-line character after print statement.\n",
        "\n",
        "Examples:\n",
        "```\n",
        "Input: a = 3\n",
        "Output: Fizz\n",
        "Explanation: Here, the number is divisible by 3, so Fizz is printed.\n",
        "```\n",
        "```\n",
        "Input: a = 5\n",
        "Output: Buzz\n",
        "Explanation: Here the number is divisible by 5, so Buzz is printed.\n",
        "```\n",
        "```\n",
        "Input: a = 15\n",
        "Output: FizzBuzz\n",
        "Explanation: Here, the number 15 is divisible by both 3 and 5, so FizzBuzz is printed.\n",
        "```"
      ],
      "metadata": {
        "id": "AAXDLMFXWDVA"
      }
    },
    {
      "cell_type": "code",
      "source": [
        "#User function Template for python3\n",
        "a = int(input())\n",
        "if (a % 3==0) and (a % 5 ==0):\n",
        "    print(\"FizzBuzz\")\n",
        "elif a % 5 == 0:\n",
        "    print(\"Buzz\")\n",
        "elif (a % 3==0):\n",
        "    print(\"Fizz\")\n",
        "else:\n",
        "    print(a)"
      ],
      "metadata": {
        "id": "J8v05XiRV91n"
      },
      "execution_count": null,
      "outputs": []
    },
    {
      "cell_type": "markdown",
      "source": [
        "Given a number n, number of apples in a bag. You and your friend are picking one apple turnwise from the bag. It is given that the first attempt is always by you. The person picking the last apple will be the winner.\n",
        "\n",
        "If you will win: print \"You\" (without quotes)\n",
        "If your friend will win: print \"Friend\" (without quotes)\n",
        "Examples:\n",
        "```\n",
        "Input: n = 9\n",
        "Output: You\n",
        "Input: n = 4\n",
        "Output: Friend\n",
        "```"
      ],
      "metadata": {
        "id": "uYkQ5mPSWKpC"
      }
    },
    {
      "cell_type": "markdown",
      "source": [
        "n = int(input())\n",
        "if n % 2 == 0:\n",
        "    print(\"Friend\")\n",
        "else:\n",
        "    print(\"You\")"
      ],
      "metadata": {
        "id": "ZN9NpPofWQyB"
      }
    },
    {
      "cell_type": "markdown",
      "source": [
        "Given three numbers a, b, and c. You need to find which is the greatest of them all.\n",
        "\n",
        "Examples:\n",
        "```\n",
        "Input: a = 1, b = 2, c = 3\n",
        "Output: 3\n",
        "Explanation: Clearly, c = 3 is the greatest of (1, 2, 3)\n",
        "```\n",
        "```\n",
        "Input: a = 2, b = 2, c = 5\n",
        "Output: 5\n",
        "Explanation: Out of (2, 2, 5) 5 is the greatest.\n",
        "```"
      ],
      "metadata": {
        "id": "cWRkDgodWS68"
      }
    },
    {
      "cell_type": "code",
      "source": [
        "a,b,c = int(input()), int(input()) , int(input())\n",
        "print(max(a,b,c))"
      ],
      "metadata": {
        "id": "BXGaNimTWYVN"
      },
      "execution_count": null,
      "outputs": []
    },
    {
      "cell_type": "markdown",
      "source": [
        "Given two numbers a and b. You need to perform basic mathematical operations on them. You will be provided an integer named as operator.\n",
        "\n",
        "If the operator equals to 1 add a and b, then print the result.\n",
        "If the operator equals to 2 subtract b from a, then print the result.\n",
        "If the operator equals to 3 multiply a and b, then print the result.\n",
        "If the operator equals to any other number, print \"Invalid Input\"(without quotes).\n",
        "Note: Do not add a new line at the end.\n",
        "\n",
        "Examples:\n",
        "```\n",
        "Input: a = 1, b = 2, operator = 3\n",
        "Output: 2\n",
        "Explanation: 1 * 2 = 2\n",
        "```\n",
        "```\n",
        "Input: a = 2, b = 2, operator = 2\n",
        "Output: 0\n",
        "Explanation: 2 - 2 = 0\n",
        "```"
      ],
      "metadata": {
        "id": "eeNLhE0bWdHE"
      }
    }
  ]
}